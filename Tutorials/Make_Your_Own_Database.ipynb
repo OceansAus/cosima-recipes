{
 "cells": [
  {
   "cell_type": "markdown",
   "metadata": {},
   "source": [
    "# Make Your Own Database\n",
    "\n",
    "The COSIMA cookbook uses a database to access information about experiments and to help with loading model output. We maintain a default database for ACCESS-OM2 experiments, but there are occasions when you might want to make your own database. This tutorial outlines the process of making your own private database.\n",
    "\n",
    "**Requirements:** We recommend that you use `conda/analysis3-20.01` (or later) kernel on NCI (or your own up-to-date cookbook installation)."
   ]
  },
  {
   "cell_type": "code",
   "execution_count": 2,
   "metadata": {},
   "outputs": [],
   "source": [
    "%matplotlib inline\n",
    "%config InlineBackend.figure_format='retina'\n",
    "\n",
    "import cosima_cookbook as cc"
   ]
  },
  {
   "cell_type": "markdown",
   "metadata": {},
   "source": [
    "**First, create a database session** using the inbuilt `create_session` function. To do this, you need to specify a path for the database - choose a location where you have write permission (that is, not the example that I have given here):"
   ]
  },
  {
   "cell_type": "code",
   "execution_count": 10,
   "metadata": {},
   "outputs": [
    {
     "name": "stdout",
     "output_type": "stream",
     "text": [
      "2020-10-25 12:23:20,479 INFO sqlalchemy.engine.base.Engine SELECT CAST('test plain returns' AS VARCHAR(60)) AS anon_1\n",
      "2020-10-25 12:23:20,481 INFO sqlalchemy.engine.base.Engine ()\n",
      "2020-10-25 12:23:20,484 INFO sqlalchemy.engine.base.Engine SELECT CAST('test unicode returns' AS VARCHAR(60)) AS anon_1\n",
      "2020-10-25 12:23:20,484 INFO sqlalchemy.engine.base.Engine ()\n",
      "2020-10-25 12:23:20,486 INFO sqlalchemy.engine.base.Engine PRAGMA user_version\n",
      "2020-10-25 12:23:20,486 INFO sqlalchemy.engine.base.Engine ()\n",
      "2020-10-25 12:23:20,489 INFO sqlalchemy.engine.base.Engine PRAGMA main.table_info(\"keyword_assoc\")\n",
      "2020-10-25 12:23:20,490 INFO sqlalchemy.engine.base.Engine ()\n",
      "2020-10-25 12:23:20,492 INFO sqlalchemy.engine.base.Engine PRAGMA main.table_info(\"experiments\")\n",
      "2020-10-25 12:23:20,493 INFO sqlalchemy.engine.base.Engine ()\n",
      "2020-10-25 12:23:20,494 INFO sqlalchemy.engine.base.Engine PRAGMA main.table_info(\"keywords\")\n",
      "2020-10-25 12:23:20,495 INFO sqlalchemy.engine.base.Engine ()\n",
      "2020-10-25 12:23:20,496 INFO sqlalchemy.engine.base.Engine PRAGMA main.table_info(\"ncfiles\")\n",
      "2020-10-25 12:23:20,497 INFO sqlalchemy.engine.base.Engine ()\n",
      "2020-10-25 12:23:20,498 INFO sqlalchemy.engine.base.Engine PRAGMA main.table_info(\"variables\")\n",
      "2020-10-25 12:23:20,498 INFO sqlalchemy.engine.base.Engine ()\n",
      "2020-10-25 12:23:20,499 INFO sqlalchemy.engine.base.Engine PRAGMA main.table_info(\"ncvars\")\n",
      "2020-10-25 12:23:20,500 INFO sqlalchemy.engine.base.Engine ()\n"
     ]
    }
   ],
   "source": [
    "db = '/g/data/e14/rmh561/access-om2/archive/databases/cc_database_omip_cycle1'\n",
    "session = cc.database.create_session(db,debug=True)"
   ]
  },
  {
   "cell_type": "markdown",
   "metadata": {},
   "source": [
    "Note that you need to create the database session every time you start up your notebook; you can then update this database however many times you like."
   ]
  },
  {
   "cell_type": "markdown",
   "metadata": {},
   "source": [
    "**Now you are ready to build a database.** First, select which *experiments* you want to include in your database. For these purposes, an *experiment* is a directory containing output from a single simulation. (If you use a higher level directory you won't be able to distinguish between experiments.) \n",
    "\n",
    "My example below constructs a list of two experiment directories; we have chosen two cases with different resolution. The database will be built to index all netcdf files in each directory."
   ]
  },
  {
   "cell_type": "code",
   "execution_count": null,
   "metadata": {},
   "outputs": [
    {
     "name": "stdout",
     "output_type": "stream",
     "text": [
      "Indexing experiment: 025deg_jra55_iaf_cycle1\n"
     ]
    },
    {
     "name": "stderr",
     "output_type": "stream",
     "text": [
      " 10%|▉         | 2330/23683 [09:20<1:37:25,  3.65it/s]ERROR:root:Error indexing /scratch/e14/rmh561/access-om2/archive/025deg_jra55_iaf_cycle1/restart000/ice/kmt.nc: 'nEdits'\n",
      " 10%|█         | 2414/23683 [09:42<1:40:27,  3.53it/s]ERROR:root:Error indexing /scratch/e14/rmh561/access-om2/archive/025deg_jra55_iaf_cycle1/restart040/ice/kmt.nc: 'nEdits'\n",
      " 14%|█▍        | 3362/23683 [13:26<1:28:26,  3.83it/s]ERROR:root:Error indexing /scratch/e14/rmh561/access-om2/archive/025deg_jra55_iaf_cycle1/restart005/ice/kmt.nc: 'nEdits'\n",
      " 15%|█▍        | 3487/23683 [13:54<1:08:27,  4.92it/s]ERROR:root:Error indexing /scratch/e14/rmh561/access-om2/archive/025deg_jra55_iaf_cycle1/restart045/ice/kmt.nc: 'nEdits'\n",
      " 22%|██▏       | 5219/23683 [20:56<1:12:05,  4.27it/s]ERROR:root:Error indexing /scratch/e14/rmh561/access-om2/archive/025deg_jra55_iaf_cycle1/restart050/ice/kmt.nc: 'nEdits'\n",
      " 23%|██▎       | 5345/23683 [21:26<1:09:51,  4.38it/s]ERROR:root:Error indexing /scratch/e14/rmh561/access-om2/archive/025deg_jra55_iaf_cycle1/restart020/ice/kmt.nc: 'nEdits'\n",
      " 37%|███▋      | 8753/23683 [35:48<1:05:22,  3.81it/s] ERROR:root:Error indexing /scratch/e14/rmh561/access-om2/archive/025deg_jra55_iaf_cycle1/restart055/ice/kmt.nc: 'nEdits'\n",
      " 48%|████▊     | 11400/23683 [46:30<45:09,  4.53it/s]  ERROR:root:Error indexing /scratch/e14/rmh561/access-om2/archive/025deg_jra55_iaf_cycle1/restart010/ice/kmt.nc: 'nEdits'\n",
      " 64%|██████▍   | 15181/23683 [1:01:55<30:57,  4.58it/s]  ERROR:root:Error indexing /scratch/e14/rmh561/access-om2/archive/025deg_jra55_iaf_cycle1/restart025/ice/kmt.nc: 'nEdits'\n",
      " 69%|██████▉   | 16307/23683 [1:06:36<32:51,  3.74it/s]  ERROR:root:Error indexing /scratch/e14/rmh561/access-om2/archive/025deg_jra55_iaf_cycle1/restart060/ice/kmt.nc: 'nEdits'\n",
      " 75%|███████▍  | 17707/23683 [1:12:25<25:04,  3.97it/s]ERROR:root:Error indexing /scratch/e14/rmh561/access-om2/archive/025deg_jra55_iaf_cycle1/restart015/ice/kmt.nc: 'nEdits'\n",
      " 82%|████████▏ | 19309/23683 [1:19:06<15:59,  4.56it/s]  ERROR:root:Error indexing /scratch/e14/rmh561/access-om2/archive/025deg_jra55_iaf_cycle1/restart030/ice/kmt.nc: 'nEdits'\n",
      " 97%|█████████▋| 23079/23683 [1:34:51<02:20,  4.29it/s]  ERROR:root:Error indexing /scratch/e14/rmh561/access-om2/archive/025deg_jra55_iaf_cycle1/restart035/ice/kmt.nc: 'nEdits'\n",
      "100%|██████████| 23683/23683 [1:37:25<00:00,  4.05it/s]\n"
     ]
    },
    {
     "name": "stdout",
     "output_type": "stream",
     "text": [
      "Indexing experiment: 025deg_jra55_iaf_newIC\n"
     ]
    },
    {
     "name": "stderr",
     "output_type": "stream",
     "text": [
      "100%|██████████| 23064/23064 [1:35:58<00:00,  4.01it/s]  \n"
     ]
    }
   ],
   "source": [
    "dir_list=['/scratch/e14/rmh561/access-om2/archive/025deg_jra55_iaf_cycle1/',\n",
    "          '/scratch/e14/rmh561/access-om2/archive/025deg_jra55_iaf_newIC/'\n",
    "          ]\n",
    "\n",
    "cc.database.build_index(dir_list, session, update=True)"
   ]
  },
  {
   "cell_type": "markdown",
   "metadata": {},
   "source": [
    "Note that this operation may take a little while first time through, but is relatively painless to update -- **provided that you have the**  `update=True` **flag**.\n",
    "\n",
    "Now you have your own database! 🎉\n",
    "\n",
    "Remember to **specify** your own database when you load model output, or else it will look for your experiment in the default database.\n",
    "\n",
    "## Using the database\n",
    "To know how to effectively use this database, please see the companion tutorial: [`COSIMA_CookBook_Tutorial.ipynb`](https://cosima-recipes.readthedocs.io/en/latest/tutorials/COSIMA_CookBook_Tutorial.html#gallery-tutorials-cosima-cookbook-tutorial-ipynb). Alternatively, here is a sample that shows how you might load a variable from an experiment in your database."
   ]
  },
  {
   "cell_type": "code",
   "execution_count": 11,
   "metadata": {},
   "outputs": [
    {
     "name": "stdout",
     "output_type": "stream",
     "text": [
      "2020-10-25 12:23:31,607 INFO sqlalchemy.engine.base.Engine BEGIN (implicit)\n",
      "2020-10-25 12:23:31,610 INFO sqlalchemy.engine.base.Engine SELECT ncfiles.id AS ncfiles_id, ncfiles.index_time AS ncfiles_index_time, ncfiles.ncfile AS ncfiles_ncfile, ncfiles.present AS ncfiles_present, ncfiles.experiment_id AS ncfiles_experiment_id, ncfiles.time_start AS ncfiles_time_start, ncfiles.time_end AS ncfiles_time_end, ncfiles.frequency AS ncfiles_frequency, ncvars.id AS ncvars_id, ncvars.ncfile_id AS ncvars_ncfile_id, ncvars.variable_id AS ncvars_variable_id, ncvars.dimensions AS ncvars_dimensions, ncvars.chunking AS ncvars_chunking \n",
      "FROM ncfiles JOIN ncvars ON ncfiles.id = ncvars.ncfile_id JOIN experiments ON experiments.id = ncfiles.experiment_id \n",
      "WHERE (EXISTS (SELECT 1 \n",
      "FROM variables \n",
      "WHERE variables.id = ncvars.variable_id AND variables.name = ?)) AND experiments.experiment = ? AND ncfiles.present = 1 ORDER BY ncfiles.time_start\n",
      "2020-10-25 12:23:31,611 INFO sqlalchemy.engine.base.Engine ('temp_global_ave', '025deg_jra55_iaf_cycle1')\n"
     ]
    },
    {
     "ename": "DatabaseError",
     "evalue": "(sqlite3.DatabaseError) database disk image is malformed\n[SQL: SELECT ncfiles.id AS ncfiles_id, ncfiles.index_time AS ncfiles_index_time, ncfiles.ncfile AS ncfiles_ncfile, ncfiles.present AS ncfiles_present, ncfiles.experiment_id AS ncfiles_experiment_id, ncfiles.time_start AS ncfiles_time_start, ncfiles.time_end AS ncfiles_time_end, ncfiles.frequency AS ncfiles_frequency, ncvars.id AS ncvars_id, ncvars.ncfile_id AS ncvars_ncfile_id, ncvars.variable_id AS ncvars_variable_id, ncvars.dimensions AS ncvars_dimensions, ncvars.chunking AS ncvars_chunking \nFROM ncfiles JOIN ncvars ON ncfiles.id = ncvars.ncfile_id JOIN experiments ON experiments.id = ncfiles.experiment_id \nWHERE (EXISTS (SELECT 1 \nFROM variables \nWHERE variables.id = ncvars.variable_id AND variables.name = ?)) AND experiments.experiment = ? AND ncfiles.present = 1 ORDER BY ncfiles.time_start]\n[parameters: ('temp_global_ave', '025deg_jra55_iaf_cycle1')]\n(Background on this error at: http://sqlalche.me/e/13/4xp6)",
     "output_type": "error",
     "traceback": [
      "\u001b[0;31m---------------------------------------------------------------------------\u001b[0m",
      "\u001b[0;31mDatabaseError\u001b[0m                             Traceback (most recent call last)",
      "\u001b[0;32m/g/data3/hh5/public/apps/miniconda3/envs/analysis3-20.07/lib/python3.7/site-packages/sqlalchemy/engine/base.py\u001b[0m in \u001b[0;36m_execute_context\u001b[0;34m(self, dialect, constructor, statement, parameters, *args)\u001b[0m\n\u001b[1;32m   1277\u001b[0m                     self.dialect.do_execute(\n\u001b[0;32m-> 1278\u001b[0;31m                         \u001b[0mcursor\u001b[0m\u001b[0;34m,\u001b[0m \u001b[0mstatement\u001b[0m\u001b[0;34m,\u001b[0m \u001b[0mparameters\u001b[0m\u001b[0;34m,\u001b[0m \u001b[0mcontext\u001b[0m\u001b[0;34m\u001b[0m\u001b[0;34m\u001b[0m\u001b[0m\n\u001b[0m\u001b[1;32m   1279\u001b[0m                     )\n",
      "\u001b[0;32m/g/data3/hh5/public/apps/miniconda3/envs/analysis3-20.07/lib/python3.7/site-packages/sqlalchemy/engine/default.py\u001b[0m in \u001b[0;36mdo_execute\u001b[0;34m(self, cursor, statement, parameters, context)\u001b[0m\n\u001b[1;32m    592\u001b[0m     \u001b[0;32mdef\u001b[0m \u001b[0mdo_execute\u001b[0m\u001b[0;34m(\u001b[0m\u001b[0mself\u001b[0m\u001b[0;34m,\u001b[0m \u001b[0mcursor\u001b[0m\u001b[0;34m,\u001b[0m \u001b[0mstatement\u001b[0m\u001b[0;34m,\u001b[0m \u001b[0mparameters\u001b[0m\u001b[0;34m,\u001b[0m \u001b[0mcontext\u001b[0m\u001b[0;34m=\u001b[0m\u001b[0;32mNone\u001b[0m\u001b[0;34m)\u001b[0m\u001b[0;34m:\u001b[0m\u001b[0;34m\u001b[0m\u001b[0;34m\u001b[0m\u001b[0m\n\u001b[0;32m--> 593\u001b[0;31m         \u001b[0mcursor\u001b[0m\u001b[0;34m.\u001b[0m\u001b[0mexecute\u001b[0m\u001b[0;34m(\u001b[0m\u001b[0mstatement\u001b[0m\u001b[0;34m,\u001b[0m \u001b[0mparameters\u001b[0m\u001b[0;34m)\u001b[0m\u001b[0;34m\u001b[0m\u001b[0;34m\u001b[0m\u001b[0m\n\u001b[0m\u001b[1;32m    594\u001b[0m \u001b[0;34m\u001b[0m\u001b[0m\n",
      "\u001b[0;31mDatabaseError\u001b[0m: database disk image is malformed",
      "\nThe above exception was the direct cause of the following exception:\n",
      "\u001b[0;31mDatabaseError\u001b[0m                             Traceback (most recent call last)",
      "\u001b[0;32m<ipython-input-11-006f0dc7e16e>\u001b[0m in \u001b[0;36m<module>\u001b[0;34m\u001b[0m\n\u001b[1;32m      1\u001b[0m \u001b[0mexpt\u001b[0m \u001b[0;34m=\u001b[0m \u001b[0;34m'025deg_jra55_iaf_cycle1'\u001b[0m\u001b[0;34m\u001b[0m\u001b[0;34m\u001b[0m\u001b[0m\n\u001b[1;32m      2\u001b[0m \u001b[0mvariable\u001b[0m \u001b[0;34m=\u001b[0m \u001b[0;34m'temp_global_ave'\u001b[0m\u001b[0;34m\u001b[0m\u001b[0;34m\u001b[0m\u001b[0m\n\u001b[0;32m----> 3\u001b[0;31m \u001b[0mdarray\u001b[0m \u001b[0;34m=\u001b[0m \u001b[0mcc\u001b[0m\u001b[0;34m.\u001b[0m\u001b[0mquerying\u001b[0m\u001b[0;34m.\u001b[0m\u001b[0mgetvar\u001b[0m\u001b[0;34m(\u001b[0m\u001b[0mexpt\u001b[0m\u001b[0;34m,\u001b[0m \u001b[0mvariable\u001b[0m\u001b[0;34m,\u001b[0m \u001b[0msession\u001b[0m\u001b[0;34m)\u001b[0m\u001b[0;34m\u001b[0m\u001b[0;34m\u001b[0m\u001b[0m\n\u001b[0m\u001b[1;32m      4\u001b[0m \u001b[0mannual_average\u001b[0m \u001b[0;34m=\u001b[0m \u001b[0mdarray\u001b[0m\u001b[0;34m.\u001b[0m\u001b[0mresample\u001b[0m\u001b[0;34m(\u001b[0m\u001b[0mtime\u001b[0m\u001b[0;34m=\u001b[0m\u001b[0;34m'A'\u001b[0m\u001b[0;34m)\u001b[0m\u001b[0;34m.\u001b[0m\u001b[0mmean\u001b[0m\u001b[0;34m(\u001b[0m\u001b[0mdim\u001b[0m\u001b[0;34m=\u001b[0m\u001b[0;34m'time'\u001b[0m\u001b[0;34m)\u001b[0m\u001b[0;34m\u001b[0m\u001b[0;34m\u001b[0m\u001b[0m\n\u001b[1;32m      5\u001b[0m \u001b[0mannual_average\u001b[0m\u001b[0;34m.\u001b[0m\u001b[0mplot\u001b[0m\u001b[0;34m(\u001b[0m\u001b[0;34m)\u001b[0m\u001b[0;34m\u001b[0m\u001b[0;34m\u001b[0m\u001b[0m\n",
      "\u001b[0;32m/g/data3/hh5/public/apps/miniconda3/envs/analysis3-20.07/lib/python3.7/site-packages/cosima_cookbook/querying.py\u001b[0m in \u001b[0;36mgetvar\u001b[0;34m(expt, variable, session, ncfile, start_time, end_time, n, frequency, **kwargs)\u001b[0m\n\u001b[1;32m    172\u001b[0m \u001b[0;34m\u001b[0m\u001b[0m\n\u001b[1;32m    173\u001b[0m     ncfiles = _ncfiles_for_variable(expt, variable, session, ncfile, \n\u001b[0;32m--> 174\u001b[0;31m                                     start_time, end_time, n, frequency)\n\u001b[0m\u001b[1;32m    175\u001b[0m \u001b[0;34m\u001b[0m\u001b[0m\n\u001b[1;32m    176\u001b[0m     \u001b[0;31m# chunking -- use first row/file and assume it's the same across the whole dataset\u001b[0m\u001b[0;34m\u001b[0m\u001b[0;34m\u001b[0m\u001b[0;34m\u001b[0m\u001b[0m\n",
      "\u001b[0;32m/g/data3/hh5/public/apps/miniconda3/envs/analysis3-20.07/lib/python3.7/site-packages/cosima_cookbook/querying.py\u001b[0m in \u001b[0;36m_ncfiles_for_variable\u001b[0;34m(expt, variable, session, ncfile, start_time, end_time, n, frequency)\u001b[0m\n\u001b[1;32m    220\u001b[0m     \u001b[0;32mif\u001b[0m \u001b[0mfrequency\u001b[0m \u001b[0;32mis\u001b[0m \u001b[0;32mnot\u001b[0m \u001b[0;32mNone\u001b[0m\u001b[0;34m:\u001b[0m\u001b[0;34m\u001b[0m\u001b[0;34m\u001b[0m\u001b[0m\n\u001b[1;32m    221\u001b[0m         \u001b[0mq\u001b[0m \u001b[0;34m=\u001b[0m \u001b[0mq\u001b[0m\u001b[0;34m.\u001b[0m\u001b[0mfilter\u001b[0m\u001b[0;34m(\u001b[0m\u001b[0mf\u001b[0m\u001b[0;34m.\u001b[0m\u001b[0mfrequency\u001b[0m \u001b[0;34m==\u001b[0m \u001b[0mfrequency\u001b[0m\u001b[0;34m)\u001b[0m\u001b[0;34m\u001b[0m\u001b[0;34m\u001b[0m\u001b[0m\n\u001b[0;32m--> 222\u001b[0;31m     \u001b[0mncfiles\u001b[0m \u001b[0;34m=\u001b[0m \u001b[0mq\u001b[0m\u001b[0;34m.\u001b[0m\u001b[0mall\u001b[0m\u001b[0;34m(\u001b[0m\u001b[0;34m)\u001b[0m\u001b[0;34m\u001b[0m\u001b[0;34m\u001b[0m\u001b[0m\n\u001b[0m\u001b[1;32m    223\u001b[0m \u001b[0;34m\u001b[0m\u001b[0m\n\u001b[1;32m    224\u001b[0m     \u001b[0;32mif\u001b[0m \u001b[0mn\u001b[0m \u001b[0;32mis\u001b[0m \u001b[0;32mnot\u001b[0m \u001b[0;32mNone\u001b[0m\u001b[0;34m:\u001b[0m\u001b[0;34m\u001b[0m\u001b[0;34m\u001b[0m\u001b[0m\n",
      "\u001b[0;32m/g/data3/hh5/public/apps/miniconda3/envs/analysis3-20.07/lib/python3.7/site-packages/sqlalchemy/orm/query.py\u001b[0m in \u001b[0;36mall\u001b[0;34m(self)\u001b[0m\n\u001b[1;32m   3339\u001b[0m                 \u001b[0;34m:\u001b[0m\u001b[0mref\u001b[0m\u001b[0;34m:\u001b[0m\u001b[0;31m`\u001b[0m\u001b[0mfaq_query_deduplicating\u001b[0m\u001b[0;31m`\u001b[0m\u001b[0;34m\u001b[0m\u001b[0;34m\u001b[0m\u001b[0m\n\u001b[1;32m   3340\u001b[0m         \"\"\"\n\u001b[0;32m-> 3341\u001b[0;31m         \u001b[0;32mreturn\u001b[0m \u001b[0mlist\u001b[0m\u001b[0;34m(\u001b[0m\u001b[0mself\u001b[0m\u001b[0;34m)\u001b[0m\u001b[0;34m\u001b[0m\u001b[0;34m\u001b[0m\u001b[0m\n\u001b[0m\u001b[1;32m   3342\u001b[0m \u001b[0;34m\u001b[0m\u001b[0m\n\u001b[1;32m   3343\u001b[0m     \u001b[0;34m@\u001b[0m\u001b[0m_generative\u001b[0m\u001b[0;34m(\u001b[0m\u001b[0m_no_clauseelement_condition\u001b[0m\u001b[0;34m)\u001b[0m\u001b[0;34m\u001b[0m\u001b[0;34m\u001b[0m\u001b[0m\n",
      "\u001b[0;32m/g/data3/hh5/public/apps/miniconda3/envs/analysis3-20.07/lib/python3.7/site-packages/sqlalchemy/orm/query.py\u001b[0m in \u001b[0;36m__iter__\u001b[0;34m(self)\u001b[0m\n\u001b[1;32m   3501\u001b[0m         \u001b[0;32mif\u001b[0m \u001b[0mself\u001b[0m\u001b[0;34m.\u001b[0m\u001b[0m_autoflush\u001b[0m \u001b[0;32mand\u001b[0m \u001b[0;32mnot\u001b[0m \u001b[0mself\u001b[0m\u001b[0;34m.\u001b[0m\u001b[0m_populate_existing\u001b[0m\u001b[0;34m:\u001b[0m\u001b[0;34m\u001b[0m\u001b[0;34m\u001b[0m\u001b[0m\n\u001b[1;32m   3502\u001b[0m             \u001b[0mself\u001b[0m\u001b[0;34m.\u001b[0m\u001b[0msession\u001b[0m\u001b[0;34m.\u001b[0m\u001b[0m_autoflush\u001b[0m\u001b[0;34m(\u001b[0m\u001b[0;34m)\u001b[0m\u001b[0;34m\u001b[0m\u001b[0;34m\u001b[0m\u001b[0m\n\u001b[0;32m-> 3503\u001b[0;31m         \u001b[0;32mreturn\u001b[0m \u001b[0mself\u001b[0m\u001b[0;34m.\u001b[0m\u001b[0m_execute_and_instances\u001b[0m\u001b[0;34m(\u001b[0m\u001b[0mcontext\u001b[0m\u001b[0;34m)\u001b[0m\u001b[0;34m\u001b[0m\u001b[0;34m\u001b[0m\u001b[0m\n\u001b[0m\u001b[1;32m   3504\u001b[0m \u001b[0;34m\u001b[0m\u001b[0m\n\u001b[1;32m   3505\u001b[0m     \u001b[0;32mdef\u001b[0m \u001b[0m__str__\u001b[0m\u001b[0;34m(\u001b[0m\u001b[0mself\u001b[0m\u001b[0;34m)\u001b[0m\u001b[0;34m:\u001b[0m\u001b[0;34m\u001b[0m\u001b[0;34m\u001b[0m\u001b[0m\n",
      "\u001b[0;32m/g/data3/hh5/public/apps/miniconda3/envs/analysis3-20.07/lib/python3.7/site-packages/sqlalchemy/orm/query.py\u001b[0m in \u001b[0;36m_execute_and_instances\u001b[0;34m(self, querycontext)\u001b[0m\n\u001b[1;32m   3526\u001b[0m         )\n\u001b[1;32m   3527\u001b[0m \u001b[0;34m\u001b[0m\u001b[0m\n\u001b[0;32m-> 3528\u001b[0;31m         \u001b[0mresult\u001b[0m \u001b[0;34m=\u001b[0m \u001b[0mconn\u001b[0m\u001b[0;34m.\u001b[0m\u001b[0mexecute\u001b[0m\u001b[0;34m(\u001b[0m\u001b[0mquerycontext\u001b[0m\u001b[0;34m.\u001b[0m\u001b[0mstatement\u001b[0m\u001b[0;34m,\u001b[0m \u001b[0mself\u001b[0m\u001b[0;34m.\u001b[0m\u001b[0m_params\u001b[0m\u001b[0;34m)\u001b[0m\u001b[0;34m\u001b[0m\u001b[0;34m\u001b[0m\u001b[0m\n\u001b[0m\u001b[1;32m   3529\u001b[0m         \u001b[0;32mreturn\u001b[0m \u001b[0mloading\u001b[0m\u001b[0;34m.\u001b[0m\u001b[0minstances\u001b[0m\u001b[0;34m(\u001b[0m\u001b[0mquerycontext\u001b[0m\u001b[0;34m.\u001b[0m\u001b[0mquery\u001b[0m\u001b[0;34m,\u001b[0m \u001b[0mresult\u001b[0m\u001b[0;34m,\u001b[0m \u001b[0mquerycontext\u001b[0m\u001b[0;34m)\u001b[0m\u001b[0;34m\u001b[0m\u001b[0;34m\u001b[0m\u001b[0m\n\u001b[1;32m   3530\u001b[0m \u001b[0;34m\u001b[0m\u001b[0m\n",
      "\u001b[0;32m/g/data3/hh5/public/apps/miniconda3/envs/analysis3-20.07/lib/python3.7/site-packages/sqlalchemy/engine/base.py\u001b[0m in \u001b[0;36mexecute\u001b[0;34m(self, object_, *multiparams, **params)\u001b[0m\n\u001b[1;32m   1012\u001b[0m             )\n\u001b[1;32m   1013\u001b[0m         \u001b[0;32melse\u001b[0m\u001b[0;34m:\u001b[0m\u001b[0;34m\u001b[0m\u001b[0;34m\u001b[0m\u001b[0m\n\u001b[0;32m-> 1014\u001b[0;31m             \u001b[0;32mreturn\u001b[0m \u001b[0mmeth\u001b[0m\u001b[0;34m(\u001b[0m\u001b[0mself\u001b[0m\u001b[0;34m,\u001b[0m \u001b[0mmultiparams\u001b[0m\u001b[0;34m,\u001b[0m \u001b[0mparams\u001b[0m\u001b[0;34m)\u001b[0m\u001b[0;34m\u001b[0m\u001b[0;34m\u001b[0m\u001b[0m\n\u001b[0m\u001b[1;32m   1015\u001b[0m \u001b[0;34m\u001b[0m\u001b[0m\n\u001b[1;32m   1016\u001b[0m     \u001b[0;32mdef\u001b[0m \u001b[0m_execute_function\u001b[0m\u001b[0;34m(\u001b[0m\u001b[0mself\u001b[0m\u001b[0;34m,\u001b[0m \u001b[0mfunc\u001b[0m\u001b[0;34m,\u001b[0m \u001b[0mmultiparams\u001b[0m\u001b[0;34m,\u001b[0m \u001b[0mparams\u001b[0m\u001b[0;34m)\u001b[0m\u001b[0;34m:\u001b[0m\u001b[0;34m\u001b[0m\u001b[0;34m\u001b[0m\u001b[0m\n",
      "\u001b[0;32m/g/data3/hh5/public/apps/miniconda3/envs/analysis3-20.07/lib/python3.7/site-packages/sqlalchemy/sql/elements.py\u001b[0m in \u001b[0;36m_execute_on_connection\u001b[0;34m(self, connection, multiparams, params)\u001b[0m\n\u001b[1;32m    296\u001b[0m     \u001b[0;32mdef\u001b[0m \u001b[0m_execute_on_connection\u001b[0m\u001b[0;34m(\u001b[0m\u001b[0mself\u001b[0m\u001b[0;34m,\u001b[0m \u001b[0mconnection\u001b[0m\u001b[0;34m,\u001b[0m \u001b[0mmultiparams\u001b[0m\u001b[0;34m,\u001b[0m \u001b[0mparams\u001b[0m\u001b[0;34m)\u001b[0m\u001b[0;34m:\u001b[0m\u001b[0;34m\u001b[0m\u001b[0;34m\u001b[0m\u001b[0m\n\u001b[1;32m    297\u001b[0m         \u001b[0;32mif\u001b[0m \u001b[0mself\u001b[0m\u001b[0;34m.\u001b[0m\u001b[0msupports_execution\u001b[0m\u001b[0;34m:\u001b[0m\u001b[0;34m\u001b[0m\u001b[0;34m\u001b[0m\u001b[0m\n\u001b[0;32m--> 298\u001b[0;31m             \u001b[0;32mreturn\u001b[0m \u001b[0mconnection\u001b[0m\u001b[0;34m.\u001b[0m\u001b[0m_execute_clauseelement\u001b[0m\u001b[0;34m(\u001b[0m\u001b[0mself\u001b[0m\u001b[0;34m,\u001b[0m \u001b[0mmultiparams\u001b[0m\u001b[0;34m,\u001b[0m \u001b[0mparams\u001b[0m\u001b[0;34m)\u001b[0m\u001b[0;34m\u001b[0m\u001b[0;34m\u001b[0m\u001b[0m\n\u001b[0m\u001b[1;32m    299\u001b[0m         \u001b[0;32melse\u001b[0m\u001b[0;34m:\u001b[0m\u001b[0;34m\u001b[0m\u001b[0;34m\u001b[0m\u001b[0m\n\u001b[1;32m    300\u001b[0m             \u001b[0;32mraise\u001b[0m \u001b[0mexc\u001b[0m\u001b[0;34m.\u001b[0m\u001b[0mObjectNotExecutableError\u001b[0m\u001b[0;34m(\u001b[0m\u001b[0mself\u001b[0m\u001b[0;34m)\u001b[0m\u001b[0;34m\u001b[0m\u001b[0;34m\u001b[0m\u001b[0m\n",
      "\u001b[0;32m/g/data3/hh5/public/apps/miniconda3/envs/analysis3-20.07/lib/python3.7/site-packages/sqlalchemy/engine/base.py\u001b[0m in \u001b[0;36m_execute_clauseelement\u001b[0;34m(self, elem, multiparams, params)\u001b[0m\n\u001b[1;32m   1131\u001b[0m             \u001b[0mdistilled_params\u001b[0m\u001b[0;34m,\u001b[0m\u001b[0;34m\u001b[0m\u001b[0;34m\u001b[0m\u001b[0m\n\u001b[1;32m   1132\u001b[0m             \u001b[0mcompiled_sql\u001b[0m\u001b[0;34m,\u001b[0m\u001b[0;34m\u001b[0m\u001b[0;34m\u001b[0m\u001b[0m\n\u001b[0;32m-> 1133\u001b[0;31m             \u001b[0mdistilled_params\u001b[0m\u001b[0;34m,\u001b[0m\u001b[0;34m\u001b[0m\u001b[0;34m\u001b[0m\u001b[0m\n\u001b[0m\u001b[1;32m   1134\u001b[0m         )\n\u001b[1;32m   1135\u001b[0m         \u001b[0;32mif\u001b[0m \u001b[0mself\u001b[0m\u001b[0;34m.\u001b[0m\u001b[0m_has_events\u001b[0m \u001b[0;32mor\u001b[0m \u001b[0mself\u001b[0m\u001b[0;34m.\u001b[0m\u001b[0mengine\u001b[0m\u001b[0;34m.\u001b[0m\u001b[0m_has_events\u001b[0m\u001b[0;34m:\u001b[0m\u001b[0;34m\u001b[0m\u001b[0;34m\u001b[0m\u001b[0m\n",
      "\u001b[0;32m/g/data3/hh5/public/apps/miniconda3/envs/analysis3-20.07/lib/python3.7/site-packages/sqlalchemy/engine/base.py\u001b[0m in \u001b[0;36m_execute_context\u001b[0;34m(self, dialect, constructor, statement, parameters, *args)\u001b[0m\n\u001b[1;32m   1316\u001b[0m         \u001b[0;32mexcept\u001b[0m \u001b[0mBaseException\u001b[0m \u001b[0;32mas\u001b[0m \u001b[0me\u001b[0m\u001b[0;34m:\u001b[0m\u001b[0;34m\u001b[0m\u001b[0;34m\u001b[0m\u001b[0m\n\u001b[1;32m   1317\u001b[0m             self._handle_dbapi_exception(\n\u001b[0;32m-> 1318\u001b[0;31m                 \u001b[0me\u001b[0m\u001b[0;34m,\u001b[0m \u001b[0mstatement\u001b[0m\u001b[0;34m,\u001b[0m \u001b[0mparameters\u001b[0m\u001b[0;34m,\u001b[0m \u001b[0mcursor\u001b[0m\u001b[0;34m,\u001b[0m \u001b[0mcontext\u001b[0m\u001b[0;34m\u001b[0m\u001b[0;34m\u001b[0m\u001b[0m\n\u001b[0m\u001b[1;32m   1319\u001b[0m             )\n\u001b[1;32m   1320\u001b[0m \u001b[0;34m\u001b[0m\u001b[0m\n",
      "\u001b[0;32m/g/data3/hh5/public/apps/miniconda3/envs/analysis3-20.07/lib/python3.7/site-packages/sqlalchemy/engine/base.py\u001b[0m in \u001b[0;36m_handle_dbapi_exception\u001b[0;34m(self, e, statement, parameters, cursor, context)\u001b[0m\n\u001b[1;32m   1510\u001b[0m             \u001b[0;32melif\u001b[0m \u001b[0mshould_wrap\u001b[0m\u001b[0;34m:\u001b[0m\u001b[0;34m\u001b[0m\u001b[0;34m\u001b[0m\u001b[0m\n\u001b[1;32m   1511\u001b[0m                 util.raise_(\n\u001b[0;32m-> 1512\u001b[0;31m                     \u001b[0msqlalchemy_exception\u001b[0m\u001b[0;34m,\u001b[0m \u001b[0mwith_traceback\u001b[0m\u001b[0;34m=\u001b[0m\u001b[0mexc_info\u001b[0m\u001b[0;34m[\u001b[0m\u001b[0;36m2\u001b[0m\u001b[0;34m]\u001b[0m\u001b[0;34m,\u001b[0m \u001b[0mfrom_\u001b[0m\u001b[0;34m=\u001b[0m\u001b[0me\u001b[0m\u001b[0;34m\u001b[0m\u001b[0;34m\u001b[0m\u001b[0m\n\u001b[0m\u001b[1;32m   1513\u001b[0m                 )\n\u001b[1;32m   1514\u001b[0m             \u001b[0;32melse\u001b[0m\u001b[0;34m:\u001b[0m\u001b[0;34m\u001b[0m\u001b[0;34m\u001b[0m\u001b[0m\n",
      "\u001b[0;32m/g/data3/hh5/public/apps/miniconda3/envs/analysis3-20.07/lib/python3.7/site-packages/sqlalchemy/util/compat.py\u001b[0m in \u001b[0;36mraise_\u001b[0;34m(***failed resolving arguments***)\u001b[0m\n\u001b[1;32m    176\u001b[0m \u001b[0;34m\u001b[0m\u001b[0m\n\u001b[1;32m    177\u001b[0m         \u001b[0;32mtry\u001b[0m\u001b[0;34m:\u001b[0m\u001b[0;34m\u001b[0m\u001b[0;34m\u001b[0m\u001b[0m\n\u001b[0;32m--> 178\u001b[0;31m             \u001b[0;32mraise\u001b[0m \u001b[0mexception\u001b[0m\u001b[0;34m\u001b[0m\u001b[0;34m\u001b[0m\u001b[0m\n\u001b[0m\u001b[1;32m    179\u001b[0m         \u001b[0;32mfinally\u001b[0m\u001b[0;34m:\u001b[0m\u001b[0;34m\u001b[0m\u001b[0;34m\u001b[0m\u001b[0m\n\u001b[1;32m    180\u001b[0m             \u001b[0;31m# credit to\u001b[0m\u001b[0;34m\u001b[0m\u001b[0;34m\u001b[0m\u001b[0;34m\u001b[0m\u001b[0m\n",
      "\u001b[0;32m/g/data3/hh5/public/apps/miniconda3/envs/analysis3-20.07/lib/python3.7/site-packages/sqlalchemy/engine/base.py\u001b[0m in \u001b[0;36m_execute_context\u001b[0;34m(self, dialect, constructor, statement, parameters, *args)\u001b[0m\n\u001b[1;32m   1276\u001b[0m                 \u001b[0;32mif\u001b[0m \u001b[0;32mnot\u001b[0m \u001b[0mevt_handled\u001b[0m\u001b[0;34m:\u001b[0m\u001b[0;34m\u001b[0m\u001b[0;34m\u001b[0m\u001b[0m\n\u001b[1;32m   1277\u001b[0m                     self.dialect.do_execute(\n\u001b[0;32m-> 1278\u001b[0;31m                         \u001b[0mcursor\u001b[0m\u001b[0;34m,\u001b[0m \u001b[0mstatement\u001b[0m\u001b[0;34m,\u001b[0m \u001b[0mparameters\u001b[0m\u001b[0;34m,\u001b[0m \u001b[0mcontext\u001b[0m\u001b[0;34m\u001b[0m\u001b[0;34m\u001b[0m\u001b[0m\n\u001b[0m\u001b[1;32m   1279\u001b[0m                     )\n\u001b[1;32m   1280\u001b[0m \u001b[0;34m\u001b[0m\u001b[0m\n",
      "\u001b[0;32m/g/data3/hh5/public/apps/miniconda3/envs/analysis3-20.07/lib/python3.7/site-packages/sqlalchemy/engine/default.py\u001b[0m in \u001b[0;36mdo_execute\u001b[0;34m(self, cursor, statement, parameters, context)\u001b[0m\n\u001b[1;32m    591\u001b[0m \u001b[0;34m\u001b[0m\u001b[0m\n\u001b[1;32m    592\u001b[0m     \u001b[0;32mdef\u001b[0m \u001b[0mdo_execute\u001b[0m\u001b[0;34m(\u001b[0m\u001b[0mself\u001b[0m\u001b[0;34m,\u001b[0m \u001b[0mcursor\u001b[0m\u001b[0;34m,\u001b[0m \u001b[0mstatement\u001b[0m\u001b[0;34m,\u001b[0m \u001b[0mparameters\u001b[0m\u001b[0;34m,\u001b[0m \u001b[0mcontext\u001b[0m\u001b[0;34m=\u001b[0m\u001b[0;32mNone\u001b[0m\u001b[0;34m)\u001b[0m\u001b[0;34m:\u001b[0m\u001b[0;34m\u001b[0m\u001b[0;34m\u001b[0m\u001b[0m\n\u001b[0;32m--> 593\u001b[0;31m         \u001b[0mcursor\u001b[0m\u001b[0;34m.\u001b[0m\u001b[0mexecute\u001b[0m\u001b[0;34m(\u001b[0m\u001b[0mstatement\u001b[0m\u001b[0;34m,\u001b[0m \u001b[0mparameters\u001b[0m\u001b[0;34m)\u001b[0m\u001b[0;34m\u001b[0m\u001b[0;34m\u001b[0m\u001b[0m\n\u001b[0m\u001b[1;32m    594\u001b[0m \u001b[0;34m\u001b[0m\u001b[0m\n\u001b[1;32m    595\u001b[0m     \u001b[0;32mdef\u001b[0m \u001b[0mdo_execute_no_params\u001b[0m\u001b[0;34m(\u001b[0m\u001b[0mself\u001b[0m\u001b[0;34m,\u001b[0m \u001b[0mcursor\u001b[0m\u001b[0;34m,\u001b[0m \u001b[0mstatement\u001b[0m\u001b[0;34m,\u001b[0m \u001b[0mcontext\u001b[0m\u001b[0;34m=\u001b[0m\u001b[0;32mNone\u001b[0m\u001b[0;34m)\u001b[0m\u001b[0;34m:\u001b[0m\u001b[0;34m\u001b[0m\u001b[0;34m\u001b[0m\u001b[0m\n",
      "\u001b[0;31mDatabaseError\u001b[0m: (sqlite3.DatabaseError) database disk image is malformed\n[SQL: SELECT ncfiles.id AS ncfiles_id, ncfiles.index_time AS ncfiles_index_time, ncfiles.ncfile AS ncfiles_ncfile, ncfiles.present AS ncfiles_present, ncfiles.experiment_id AS ncfiles_experiment_id, ncfiles.time_start AS ncfiles_time_start, ncfiles.time_end AS ncfiles_time_end, ncfiles.frequency AS ncfiles_frequency, ncvars.id AS ncvars_id, ncvars.ncfile_id AS ncvars_ncfile_id, ncvars.variable_id AS ncvars_variable_id, ncvars.dimensions AS ncvars_dimensions, ncvars.chunking AS ncvars_chunking \nFROM ncfiles JOIN ncvars ON ncfiles.id = ncvars.ncfile_id JOIN experiments ON experiments.id = ncfiles.experiment_id \nWHERE (EXISTS (SELECT 1 \nFROM variables \nWHERE variables.id = ncvars.variable_id AND variables.name = ?)) AND experiments.experiment = ? AND ncfiles.present = 1 ORDER BY ncfiles.time_start]\n[parameters: ('temp_global_ave', '025deg_jra55_iaf_cycle1')]\n(Background on this error at: http://sqlalche.me/e/13/4xp6)"
     ]
    }
   ],
   "source": [
    "expt = '025deg_jra55_iaf_cycle1'\n",
    "variable = 'temp_global_ave'\n",
    "darray = cc.querying.getvar(expt, variable, session)\n",
    "annual_average = darray.resample(time='A').mean(dim='time')\n",
    "annual_average.plot()"
   ]
  },
  {
   "cell_type": "markdown",
   "metadata": {},
   "source": [
    "If you want to know more about the inbuilt functions used above, you can use the help function at any time, for example:"
   ]
  },
  {
   "cell_type": "code",
   "execution_count": 5,
   "metadata": {},
   "outputs": [
    {
     "name": "stdout",
     "output_type": "stream",
     "text": [
      "Help on function create_session in module cosima_cookbook.database:\n",
      "\n",
      "create_session(db=None, debug=False)\n",
      "    Create a session for the specified database file.\n",
      "    \n",
      "    If debug=True, the session will output raw SQL whenever it is executed on the database.\n",
      "\n"
     ]
    }
   ],
   "source": [
    "help(cc.database.create_session)"
   ]
  },
  {
   "cell_type": "code",
   "execution_count": 6,
   "metadata": {},
   "outputs": [
    {
     "name": "stdout",
     "output_type": "stream",
     "text": [
      "Help on function getvar in module cosima_cookbook.querying:\n",
      "\n",
      "getvar(expt, variable, session, ncfile=None, start_time=None, end_time=None, n=None, **kwargs)\n",
      "    For a given experiment, return an xarray DataArray containing the\n",
      "    specified variable.\n",
      "    \n",
      "    expt - text string indicating the name of the experiment\n",
      "    variable - text string indicating the name of the variable to load\n",
      "    session - a database session created by cc.database.create_session()\n",
      "    ncfile - may be used if disambiguation based on filename is required\n",
      "    start_time - only load data after this date. specify as a text string,\n",
      "                 e.g. '1900-01-01'\n",
      "    end_time - only load data before this date. specify as a text string,\n",
      "               e.g. '1900-01-01'\n",
      "    n - after all other queries, restrict the total number of files to the\n",
      "        first n. pass a negative value to restrict to the last n\n",
      "    \n",
      "    Note that if start_time and/or end_time are used, the time range\n",
      "    of the resulting dataset may not be bounded exactly on those\n",
      "    values, depending on where the underlying files start/end. Use\n",
      "    dataset.sel() to exactly select times from the dataset.\n",
      "    \n",
      "    Other kwargs are passed through to xarray.open_mfdataset, including:\n",
      "    \n",
      "    chunks - Override any chunking by passing a chunks dictionary.\n",
      "    decode_times - Time decoding can be disabled by passing decode_times=False\n",
      "\n"
     ]
    }
   ],
   "source": [
    "help(cc.querying.getvar)"
   ]
  }
 ],
 "metadata": {
  "kernelspec": {
   "display_name": "Python [conda env:analysis3-20.07] *",
   "language": "python",
   "name": "conda-env-analysis3-20.07-py"
  },
  "language_info": {
   "codemirror_mode": {
    "name": "ipython",
    "version": 3
   },
   "file_extension": ".py",
   "mimetype": "text/x-python",
   "name": "python",
   "nbconvert_exporter": "python",
   "pygments_lexer": "ipython3",
   "version": "3.7.8"
  },
  "thumbnail_figure": "assets/database.png"
 },
 "nbformat": 4,
 "nbformat_minor": 4
}
